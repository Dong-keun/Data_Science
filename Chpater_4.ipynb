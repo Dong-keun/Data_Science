{
 "cells": [
  {
   "cell_type": "markdown",
   "id": "aaa0027f",
   "metadata": {},
   "source": [
    "Chapter 4\n",
    "===="
   ]
  },
  {
   "cell_type": "markdown",
   "id": "96afff62",
   "metadata": {},
   "source": [
    "연습문제 4.7\n",
    "----"
   ]
  },
  {
   "cell_type": "code",
   "execution_count": 1,
   "id": "0ae6bb2a",
   "metadata": {},
   "outputs": [],
   "source": [
    "import cv2\n",
    "import torch\n",
    "import numpy as np"
   ]
  },
  {
   "cell_type": "markdown",
   "id": "f9426dec",
   "metadata": {},
   "source": [
    "## a."
   ]
  },
  {
   "cell_type": "code",
   "execution_count": 2,
   "id": "afb2041a",
   "metadata": {},
   "outputs": [],
   "source": [
    "img1 = cv2.imread('D:\\CV_1\\image/1.jpg')\n",
    "img2 = cv2.imread('D:\\CV_1\\image/2.jpg')\n",
    "img3 = cv2.imread('D:\\CV_1\\image/3.jpg')"
   ]
  },
  {
   "cell_type": "code",
   "execution_count": 4,
   "id": "c76b444a",
   "metadata": {},
   "outputs": [],
   "source": [
    "tensor1 = torch.from_numpy(np.transpose(img1, (2, 0, 1))).float()\n",
    "tensor2 = torch.from_numpy(np.transpose(img2, (2, 0, 1))).float()\n",
    "tensor3 = torch.from_numpy(np.transpose(img3, (2, 0, 1))).float()"
   ]
  },
  {
   "cell_type": "code",
   "execution_count": 5,
   "id": "a3a6f720",
   "metadata": {},
   "outputs": [
    {
     "name": "stdout",
     "output_type": "stream",
     "text": [
      "torch.Size([3, 168, 300])\n",
      "torch.Size([3, 183, 275])\n",
      "torch.Size([3, 183, 275])\n"
     ]
    }
   ],
   "source": [
    "print(tensor1.shape)\n",
    "print(tensor2.shape)\n",
    "print(tensor3.shape)"
   ]
  },
  {
   "cell_type": "markdown",
   "id": "1650d5ba",
   "metadata": {},
   "source": [
    "## b."
   ]
  },
  {
   "cell_type": "code",
   "execution_count": 6,
   "id": "cde28855",
   "metadata": {},
   "outputs": [],
   "source": [
    "mean1 = tensor1.mean()\n",
    "mean2 = tensor2.mean()\n",
    "mean3 = tensor3.mean()"
   ]
  },
  {
   "cell_type": "code",
   "execution_count": 7,
   "id": "d00eca9e",
   "metadata": {},
   "outputs": [
    {
     "name": "stdout",
     "output_type": "stream",
     "text": [
      "Mean value for image 1:  tensor(94.0560)\n",
      "Mean value for image 2:  tensor(98.4026)\n",
      "Mean value for image 3:  tensor(72.6031)\n"
     ]
    }
   ],
   "source": [
    "print(\"Mean value for image 1: \", mean1)\n",
    "print(\"Mean value for image 2: \", mean2)\n",
    "print(\"Mean value for image 3: \", mean3)"
   ]
  },
  {
   "cell_type": "markdown",
   "id": "3ed53812",
   "metadata": {},
   "source": [
    "## c."
   ]
  },
  {
   "cell_type": "markdown",
   "id": "0823d33a",
   "metadata": {},
   "source": [
    "각 채널 평균을 나타내는 tensor1.mean(), tensor2.mean(), tensor3.mean()은 빨간색, 파란색, 초록색 물건을 구별해주지는 않는다.\n",
    "다만, 밝기를 확인할 수 있고, 각 이미지의 R, G, B의 경우 tensor[0].mean(), tensor[1].mean(), tensor[2].mean() 로 확인할 수 있다."
   ]
  },
  {
   "cell_type": "code",
   "execution_count": null,
   "id": "afd5be22",
   "metadata": {},
   "outputs": [],
   "source": []
  }
 ],
 "metadata": {
  "kernelspec": {
   "display_name": "Python 3 (ipykernel)",
   "language": "python",
   "name": "python3"
  },
  "language_info": {
   "codemirror_mode": {
    "name": "ipython",
    "version": 3
   },
   "file_extension": ".py",
   "mimetype": "text/x-python",
   "name": "python",
   "nbconvert_exporter": "python",
   "pygments_lexer": "ipython3",
   "version": "3.10.9"
  }
 },
 "nbformat": 4,
 "nbformat_minor": 5
}
